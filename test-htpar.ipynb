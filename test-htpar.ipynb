{
 "cells": [
  {
   "cell_type": "code",
   "execution_count": 1,
   "metadata": {},
   "outputs": [
    {
     "name": "stdout",
     "output_type": "stream",
     "text": [
      "Populating the interactive namespace from numpy and matplotlib\n"
     ]
    }
   ],
   "source": [
    "%pylab inline"
   ]
  },
  {
   "cell_type": "code",
   "execution_count": 2,
   "metadata": {
    "collapsed": true
   },
   "outputs": [],
   "source": [
    "import os\n",
    "import sys\n",
    "import os.path"
   ]
  },
  {
   "cell_type": "code",
   "execution_count": 3,
   "metadata": {},
   "outputs": [
    {
     "data": {
      "text/plain": [
       "<module 'htpar' from 'htpar/__init__.pyc'>"
      ]
     },
     "execution_count": 3,
     "metadata": {},
     "output_type": "execute_result"
    }
   ],
   "source": [
    "import htpar\n",
    "reload(htpar)"
   ]
  },
  {
   "cell_type": "markdown",
   "metadata": {},
   "source": [
    "# utils.py"
   ]
  },
  {
   "cell_type": "code",
   "execution_count": 4,
   "metadata": {
    "collapsed": true
   },
   "outputs": [],
   "source": [
    "assert htpar.split_sharded_path(\"x-@017-y\") == (\"x-%03d-y\", 17)"
   ]
  },
  {
   "cell_type": "code",
   "execution_count": 5,
   "metadata": {
    "collapsed": true
   },
   "outputs": [],
   "source": [
    "assert list(htpar.path_shards(\"x-@002\")) == [\"x-000\", \"x-001\"]"
   ]
  },
  {
   "cell_type": "code",
   "execution_count": 6,
   "metadata": {
    "collapsed": true
   },
   "outputs": [],
   "source": [
    "assert htpar.splitallext(\"a/b/c/d.e.f\") == (\"a/b/c/d\", \"e.f\")"
   ]
  },
  {
   "cell_type": "code",
   "execution_count": 7,
   "metadata": {
    "collapsed": true
   },
   "outputs": [],
   "source": [
    "assert htpar.base_plus_ext(\"a/b/c.d.e\") == (\"a/b/c\", \"d.e\")"
   ]
  },
  {
   "cell_type": "code",
   "execution_count": 8,
   "metadata": {
    "collapsed": true
   },
   "outputs": [],
   "source": [
    "assert htpar.dir_plus_file(\"a/b/c/d.e.f\") == (\"a/b/c\", \"d.e.f\")"
   ]
  },
  {
   "cell_type": "code",
   "execution_count": 9,
   "metadata": {
    "collapsed": true
   },
   "outputs": [],
   "source": [
    "assert htpar.last_dir(\"a/b/c/d.e.f\") == (\"c\", \"d.e.f\")"
   ]
  },
  {
   "cell_type": "code",
   "execution_count": 10,
   "metadata": {
    "collapsed": true
   },
   "outputs": [],
   "source": [
    "f = htpar.get_keyfun(\"(.*)::(.*)\")\n",
    "assert f(\"a::b\") == (\"a\", \"b\")"
   ]
  },
  {
   "cell_type": "code",
   "execution_count": 11,
   "metadata": {},
   "outputs": [
    {
     "name": "stderr",
     "output_type": "stream",
     "text": [
      "/usr/local/lib/python2.7/dist-packages/imageio/core/util.py:78: UserWarning: Lossy conversion from float64 to uint8, range [0, 1]\n",
      "  dtype_str, out_type.__name__))\n"
     ]
    }
   ],
   "source": [
    "sample = dict(png=rand(100, 100, 3), json=[1, 2])\n",
    "encoded = htpar.autoencode(sample)\n",
    "assert encoded[\"json\"] == \"[1, 2]\"\n",
    "assert encoded[\"png\"][:7] == \"\\x89PNG\\r\\n\\x1a\"\n",
    "decoded = htpar.autodecode(encoded)\n",
    "assert decoded[\"png\"].shape == (100, 100, 3)\n",
    "assert decoded[\"json\"] == [1, 2]"
   ]
  },
  {
   "cell_type": "markdown",
   "metadata": {},
   "source": [
    "# tarfiles.py"
   ]
  },
  {
   "cell_type": "code",
   "execution_count": 12,
   "metadata": {},
   "outputs": [],
   "source": [
    "with htpar.TarRecords(\"_test.tgz\") as stream:\n",
    "    for i in range(3):\n",
    "        s = \"%03d\" % i\n",
    "        stream.write(dict(__key__=s, s=s))"
   ]
  },
  {
   "cell_type": "code",
   "execution_count": 13,
   "metadata": {
    "collapsed": true
   },
   "outputs": [],
   "source": [
    "assert os.path.exists(\"_test.tgz\")"
   ]
  },
  {
   "cell_type": "code",
   "execution_count": 14,
   "metadata": {},
   "outputs": [
    {
     "name": "stdout",
     "output_type": "stream",
     "text": [
      "-rw-rw-rw- bigdata/bigdata   3 2018-01-17 22:43 000.s\n",
      "-rw-rw-rw- bigdata/bigdata   3 2018-01-17 22:43 001.s\n",
      "-rw-rw-rw- bigdata/bigdata   3 2018-01-17 22:43 002.s\n",
      "\n"
     ]
    }
   ],
   "source": [
    "contents = os.popen(\"tar -ztvf _test.tgz\").read()\n",
    "print contents\n",
    "assert \"002.s\" in contents"
   ]
  },
  {
   "cell_type": "code",
   "execution_count": 15,
   "metadata": {},
   "outputs": [
    {
     "data": {
      "text/plain": [
       "[{'__key__': '000', 's': '000'},\n",
       " {'__key__': '001', 's': '001'},\n",
       " {'__key__': '002', 's': '002'}]"
      ]
     },
     "execution_count": 15,
     "metadata": {},
     "output_type": "execute_result"
    }
   ],
   "source": [
    "result = list(htpar.tarrecords(\"_test.tgz\"))\n",
    "result"
   ]
  },
  {
   "cell_type": "code",
   "execution_count": 16,
   "metadata": {
    "collapsed": true
   },
   "outputs": [],
   "source": [
    "assert len(result) == 3\n",
    "assert result[0][\"s\"] == \"000\"\n",
    "assert result[2][\"__key__\"] == \"002\""
   ]
  },
  {
   "cell_type": "code",
   "execution_count": 17,
   "metadata": {
    "collapsed": true
   },
   "outputs": [],
   "source": [
    "result1 = list(htpar.tarshards(\"_test.tgz\"))\n",
    "assert result == result1"
   ]
  },
  {
   "cell_type": "code",
   "execution_count": 18,
   "metadata": {},
   "outputs": [
    {
     "name": "stdout",
     "output_type": "stream",
     "text": [
      "[opened 4 output streams]\n"
     ]
    }
   ],
   "source": [
    "with htpar.TarShards(\"_test-@0004.tgz\") as stream:\n",
    "    for i in range(100):\n",
    "        s = \"%03d\" % i\n",
    "        stream.write(dict(__key__=s, s=s))"
   ]
  },
  {
   "cell_type": "code",
   "execution_count": 19,
   "metadata": {},
   "outputs": [
    {
     "name": "stdout",
     "output_type": "stream",
     "text": [
      "-rw-rw-rw- bigdata/bigdata   3 2018-01-17 22:43 007.s\n",
      "-rw-rw-rw- bigdata/bigdata   3 2018-01-17 22:43 009.s\n",
      "-rw-rw-rw- bigdata/bigdata   3 2018-01-17 22:43 013.s\n",
      "-rw-rw-rw- bigdata/bigdata   3 2018-01-17 22:43 014.s\n",
      "-rw-rw-rw- bigdata/bigdata   3 2018-01-17 22:43 017.s\n",
      "-rw-rw-rw- bigdata/bigdata   3 2018-01-17 22:43 018.s\n",
      "-rw-rw-rw- bigdata/bigdata   3 2018-01-17 22:43 026.s\n",
      "-rw-rw-rw- bigdata/bigdata   3 2018-01-17 22:43 028.s\n",
      "-rw-rw-rw- bigdata/bigdata   3 2018-01-17 22:43 030.s\n",
      "-rw-rw-rw- bigdata/bigdata   3 2018-01-17 22:43 036.s\n",
      "-rw-rw-rw- bigdata/bigdata   3 2018-01-17 22:43 038.s\n",
      "-rw-rw-rw- bigdata/bigdata   3 2018-01-17 22:43 039.s\n",
      "-rw-rw-rw- bigdata/bigdata   3 2018-01-17 22:43 040.s\n",
      "-rw-rw-rw- bigdata/bigdata   3 2018-01-17 22:43 042.s\n",
      "-rw-rw-rw- bigdata/bigdata   3 2018-01-17 22:43 044.s\n",
      "-rw-rw-rw- bigdata/bigdata   3 2018-01-17 22:43 047.s\n",
      "-rw-rw-rw- bigdata/bigdata   3 2018-01-17 22:43 052.s\n",
      "-rw-rw-rw- bigdata/bigdata   3 2018-01-17 22:43 058.s\n",
      "-rw-rw-rw- bigdata/bigdata   3 2018-01-17 22:43 059.s\n",
      "-rw-rw-rw- bigdata/bigdata   3 2018-01-17 22:43 062.s\n",
      "-rw-rw-rw- bigdata/bigdata   3 2018-01-17 22:43 063.s\n",
      "-rw-rw-rw- bigdata/bigdata   3 2018-01-17 22:43 064.s\n",
      "-rw-rw-rw- bigdata/bigdata   3 2018-01-17 22:43 074.s\n",
      "-rw-rw-rw- bigdata/bigdata   3 2018-01-17 22:43 077.s\n",
      "-rw-rw-rw- bigdata/bigdata   3 2018-01-17 22:43 085.s\n",
      "-rw-rw-rw- bigdata/bigdata   3 2018-01-17 22:43 087.s\n",
      "-rw-rw-rw- bigdata/bigdata   3 2018-01-17 22:43 091.s\n",
      "-rw-rw-rw- bigdata/bigdata   3 2018-01-17 22:43 096.s\n",
      "-rw-rw-rw- bigdata/bigdata   3 2018-01-17 22:43 097.s\n",
      "\n"
     ]
    }
   ],
   "source": [
    "contents = os.popen(\"tar -ztvf _test-0001.tgz\").read()\n",
    "print contents\n",
    "assert \"030.s\" in contents"
   ]
  },
  {
   "cell_type": "code",
   "execution_count": 20,
   "metadata": {},
   "outputs": [
    {
     "data": {
      "text/plain": [
       "[{'__key__': '001', 's': '001'},\n",
       " {'__key__': '004', 's': '004'},\n",
       " {'__key__': '005', 's': '005'},\n",
       " {'__key__': '010', 's': '010'},\n",
       " {'__key__': '011', 's': '011'}]"
      ]
     },
     "execution_count": 20,
     "metadata": {},
     "output_type": "execute_result"
    }
   ],
   "source": [
    "result = list(htpar.tarshards(\"_test-@0004.tgz\"))\n",
    "result[:5]"
   ]
  },
  {
   "cell_type": "code",
   "execution_count": 21,
   "metadata": {
    "collapsed": true
   },
   "outputs": [],
   "source": [
    "assert len(result) == 100"
   ]
  },
  {
   "cell_type": "code",
   "execution_count": 22,
   "metadata": {
    "collapsed": true
   },
   "outputs": [],
   "source": [
    "assert set(x[\"s\"] for x in result) == \\\n",
    "       set(\"%03d\" % i for i in range(100))"
   ]
  },
  {
   "cell_type": "code",
   "execution_count": 23,
   "metadata": {
    "collapsed": true
   },
   "outputs": [],
   "source": [
    "!rm -f _test*"
   ]
  },
  {
   "cell_type": "markdown",
   "metadata": {},
   "source": [
    "# tarfiles.py with encoders"
   ]
  },
  {
   "cell_type": "code",
   "execution_count": 24,
   "metadata": {},
   "outputs": [],
   "source": [
    "with htpar.TarRecords(\"_test.tgz\") as stream:\n",
    "    for i in range(3):\n",
    "        s = \"%03d\" % i\n",
    "        stream.write({\"__key__\": s, \"a.json\": [s], \"b.pickle\": {s: s}, \"c.mp\": (s, s), \"d.png\": rand(5,4,3)})"
   ]
  },
  {
   "cell_type": "code",
   "execution_count": 25,
   "metadata": {
    "collapsed": true
   },
   "outputs": [],
   "source": [
    "assert os.path.exists(\"_test.tgz\")"
   ]
  },
  {
   "cell_type": "code",
   "execution_count": 26,
   "metadata": {},
   "outputs": [
    {
     "name": "stdout",
     "output_type": "stream",
     "text": [
      "-rw-rw-rw- bigdata/bigdata   7 2018-01-17 22:43 000.a.json\n",
      "-rw-rw-rw- bigdata/bigdata  20 2018-01-17 22:43 000.b.pickle\n",
      "-rw-rw-rw- bigdata/bigdata   9 2018-01-17 22:43 000.c.mp\n",
      "-rw-rw-rw- bigdata/bigdata 133 2018-01-17 22:43 000.d.png\n",
      "-rw-rw-rw- bigdata/bigdata   7 2018-01-17 22:43 001.a.json\n",
      "-rw-rw-rw- bigdata/bigdata  20 2018-01-17 22:43 001.b.pickle\n",
      "-rw-rw-rw- bigdata/bigdata   9 2018-01-17 22:43 001.c.mp\n",
      "-rw-rw-rw- bigdata/bigdata 133 2018-01-17 22:43 001.d.png\n",
      "-rw-rw-rw- bigdata/bigdata   7 2018-01-17 22:43 002.a.json\n",
      "-rw-rw-rw- bigdata/bigdata  20 2018-01-17 22:43 002.b.pickle\n",
      "-rw-rw-rw- bigdata/bigdata   9 2018-01-17 22:43 002.c.mp\n",
      "-rw-rw-rw- bigdata/bigdata 133 2018-01-17 22:43 002.d.png\n",
      "\n"
     ]
    }
   ],
   "source": [
    "contents = os.popen(\"tar -ztvf _test.tgz\").read()\n",
    "print contents\n",
    "assert \"002.c.mp\" in contents"
   ]
  },
  {
   "cell_type": "code",
   "execution_count": 27,
   "metadata": {},
   "outputs": [
    {
     "name": "stdout",
     "output_type": "stream",
     "text": [
      "{'a.json': ['001'], 'b.pickle': {'001': '001'}, 'c.mp': ['001', '001'], '__key__': '001', 'd.png': array([[[253,  70, 224],\n",
      "        [ 62, 192, 198],\n",
      "        [ 87, 112, 239],\n",
      "        [ 88, 239, 151]],\n",
      "\n",
      "       [[176,   3, 117],\n",
      "        [165,   7, 246],\n",
      "        [215,  14,  27],\n",
      "        [ 62, 120, 150]],\n",
      "\n",
      "       [[ 76, 178,  34],\n",
      "        [202, 177, 104],\n",
      "        [ 28, 154,  85],\n",
      "        [ 91,  93,  59]],\n",
      "\n",
      "       [[148, 238,  82],\n",
      "        [141, 252, 103],\n",
      "        [ 91,  67,  97],\n",
      "        [149,  61,  84]],\n",
      "\n",
      "       [[ 88,  65,  43],\n",
      "        [ 42, 230, 124],\n",
      "        [225,  59, 223],\n",
      "        [105, 174,   0]]], dtype=uint8)}\n"
     ]
    }
   ],
   "source": [
    "result = list(htpar.tarrecords(\"_test.tgz\"))\n",
    "print result[1]\n",
    "assert result[0][\"a.json\"] == [\"000\"]\n",
    "assert result[1][\"d.png\"].shape == (5, 4, 3)\n",
    "assert result[2][\"c.mp\"] == [\"002\", \"002\"]\n",
    "assert result[1][\"b.pickle\"] == {\"001\": \"001\"}"
   ]
  },
  {
   "cell_type": "code",
   "execution_count": null,
   "metadata": {
    "collapsed": true
   },
   "outputs": [],
   "source": []
  }
 ],
 "metadata": {
  "kernelspec": {
   "display_name": "Python 2",
   "language": "python",
   "name": "python2"
  },
  "language_info": {
   "codemirror_mode": {
    "name": "ipython",
    "version": 2
   },
   "file_extension": ".py",
   "mimetype": "text/x-python",
   "name": "python",
   "nbconvert_exporter": "python",
   "pygments_lexer": "ipython2",
   "version": "2.7.12"
  }
 },
 "nbformat": 4,
 "nbformat_minor": 2
}
