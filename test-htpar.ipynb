{
 "cells": [
  {
   "cell_type": "code",
   "execution_count": 1,
   "metadata": {},
   "outputs": [
    {
     "name": "stdout",
     "output_type": "stream",
     "text": [
      "Populating the interactive namespace from numpy and matplotlib\n"
     ]
    }
   ],
   "source": [
    "%pylab inline"
   ]
  },
  {
   "cell_type": "code",
   "execution_count": 2,
   "metadata": {
    "collapsed": true
   },
   "outputs": [],
   "source": [
    "import os\n",
    "import sys\n",
    "import os.path"
   ]
  },
  {
   "cell_type": "code",
   "execution_count": 3,
   "metadata": {},
   "outputs": [
    {
     "data": {
      "text/plain": [
       "<module 'htpar' from 'htpar/__init__.pyc'>"
      ]
     },
     "execution_count": 3,
     "metadata": {},
     "output_type": "execute_result"
    }
   ],
   "source": [
    "import htpar\n",
    "reload(htpar)"
   ]
  },
  {
   "cell_type": "markdown",
   "metadata": {},
   "source": [
    "# utils.py"
   ]
  },
  {
   "cell_type": "code",
   "execution_count": 4,
   "metadata": {},
   "outputs": [],
   "source": [
    "assert htpar.split_sharded_path(\"x-@017-y\") == (\"x-%03d-y\", 17)"
   ]
  },
  {
   "cell_type": "code",
   "execution_count": 5,
   "metadata": {},
   "outputs": [],
   "source": [
    "assert list(htpar.path_shards(\"x-@002\")) == [\"x-000\", \"x-001\"]"
   ]
  },
  {
   "cell_type": "code",
   "execution_count": 6,
   "metadata": {},
   "outputs": [],
   "source": [
    "assert htpar.splitallext(\"a/b/c/d.e.f\") == (\"a/b/c/d\", \"e.f\")"
   ]
  },
  {
   "cell_type": "code",
   "execution_count": 7,
   "metadata": {
    "collapsed": true
   },
   "outputs": [],
   "source": [
    "assert htpar.base_plus_ext(\"a/b/c.d.e\") == (\"a/b/c\", \"d.e\")"
   ]
  },
  {
   "cell_type": "code",
   "execution_count": 8,
   "metadata": {
    "collapsed": true
   },
   "outputs": [],
   "source": [
    "assert htpar.dir_plus_file(\"a/b/c/d.e.f\") == (\"a/b/c\", \"d.e.f\")"
   ]
  },
  {
   "cell_type": "code",
   "execution_count": 9,
   "metadata": {
    "collapsed": true
   },
   "outputs": [],
   "source": [
    "assert htpar.last_dir(\"a/b/c/d.e.f\") == (\"c\", \"d.e.f\")"
   ]
  },
  {
   "cell_type": "code",
   "execution_count": 10,
   "metadata": {},
   "outputs": [],
   "source": [
    "f = htpar.get_keyfun(\"(.*)::(.*)\")\n",
    "assert f(\"a::b\") == (\"a\", \"b\")"
   ]
  },
  {
   "cell_type": "markdown",
   "metadata": {},
   "source": [
    "# tarfiles.py"
   ]
  },
  {
   "cell_type": "code",
   "execution_count": 11,
   "metadata": {},
   "outputs": [],
   "source": [
    "with htpar.TarRecords(\"_test.tgz\") as stream:\n",
    "    for i in range(3):\n",
    "        s = \"%03d\" % i\n",
    "        stream.write(s, dict(s=s))"
   ]
  },
  {
   "cell_type": "code",
   "execution_count": 12,
   "metadata": {},
   "outputs": [],
   "source": [
    "assert os.path.exists(\"_test.tgz\")"
   ]
  },
  {
   "cell_type": "code",
   "execution_count": 13,
   "metadata": {},
   "outputs": [
    {
     "name": "stdout",
     "output_type": "stream",
     "text": [
      "-rw-rw-rw- bigdata/bigdata   3 2017-12-26 21:56 000.s\n",
      "-rw-rw-rw- bigdata/bigdata   3 2017-12-26 21:56 001.s\n",
      "-rw-rw-rw- bigdata/bigdata   3 2017-12-26 21:56 002.s\n",
      "\n"
     ]
    }
   ],
   "source": [
    "contents = os.popen(\"tar -ztvf _test.tgz\").read()\n",
    "print contents\n",
    "assert \"002.s\" in contents"
   ]
  },
  {
   "cell_type": "code",
   "execution_count": 14,
   "metadata": {},
   "outputs": [
    {
     "data": {
      "text/plain": [
       "[{'__key__': '000', 's': '000'},\n",
       " {'__key__': '001', 's': '001'},\n",
       " {'__key__': '002', 's': '002'}]"
      ]
     },
     "execution_count": 14,
     "metadata": {},
     "output_type": "execute_result"
    }
   ],
   "source": [
    "result = list(htpar.tarrecords(\"_test.tgz\"))\n",
    "result"
   ]
  },
  {
   "cell_type": "code",
   "execution_count": 15,
   "metadata": {},
   "outputs": [],
   "source": [
    "assert len(result) == 3\n",
    "assert result[0][\"s\"] == \"000\"\n",
    "assert result[2][\"__key__\"] == \"002\""
   ]
  },
  {
   "cell_type": "code",
   "execution_count": 16,
   "metadata": {},
   "outputs": [],
   "source": [
    "result1 = list(htpar.tarshards(\"_test.tgz\"))\n",
    "assert result == result1"
   ]
  },
  {
   "cell_type": "code",
   "execution_count": 17,
   "metadata": {},
   "outputs": [
    {
     "name": "stdout",
     "output_type": "stream",
     "text": [
      "[opened 4 output streams]\n"
     ]
    }
   ],
   "source": [
    "with htpar.TarShards(\"_test-@0004.tgz\") as stream:\n",
    "    for i in range(100):\n",
    "        s = \"%03d\" % i\n",
    "        stream.write(s, dict(s=s))"
   ]
  },
  {
   "cell_type": "code",
   "execution_count": 18,
   "metadata": {},
   "outputs": [
    {
     "name": "stdout",
     "output_type": "stream",
     "text": [
      "-rw-rw-rw- bigdata/bigdata   3 2017-12-26 21:56 007.s\n",
      "-rw-rw-rw- bigdata/bigdata   3 2017-12-26 21:56 009.s\n",
      "-rw-rw-rw- bigdata/bigdata   3 2017-12-26 21:56 013.s\n",
      "-rw-rw-rw- bigdata/bigdata   3 2017-12-26 21:56 014.s\n",
      "-rw-rw-rw- bigdata/bigdata   3 2017-12-26 21:56 017.s\n",
      "-rw-rw-rw- bigdata/bigdata   3 2017-12-26 21:56 018.s\n",
      "-rw-rw-rw- bigdata/bigdata   3 2017-12-26 21:56 026.s\n",
      "-rw-rw-rw- bigdata/bigdata   3 2017-12-26 21:56 028.s\n",
      "-rw-rw-rw- bigdata/bigdata   3 2017-12-26 21:56 030.s\n",
      "-rw-rw-rw- bigdata/bigdata   3 2017-12-26 21:56 036.s\n",
      "-rw-rw-rw- bigdata/bigdata   3 2017-12-26 21:56 038.s\n",
      "-rw-rw-rw- bigdata/bigdata   3 2017-12-26 21:56 039.s\n",
      "-rw-rw-rw- bigdata/bigdata   3 2017-12-26 21:56 040.s\n",
      "-rw-rw-rw- bigdata/bigdata   3 2017-12-26 21:56 042.s\n",
      "-rw-rw-rw- bigdata/bigdata   3 2017-12-26 21:56 044.s\n",
      "-rw-rw-rw- bigdata/bigdata   3 2017-12-26 21:56 047.s\n",
      "-rw-rw-rw- bigdata/bigdata   3 2017-12-26 21:56 052.s\n",
      "-rw-rw-rw- bigdata/bigdata   3 2017-12-26 21:56 058.s\n",
      "-rw-rw-rw- bigdata/bigdata   3 2017-12-26 21:56 059.s\n",
      "-rw-rw-rw- bigdata/bigdata   3 2017-12-26 21:56 062.s\n",
      "-rw-rw-rw- bigdata/bigdata   3 2017-12-26 21:56 063.s\n",
      "-rw-rw-rw- bigdata/bigdata   3 2017-12-26 21:56 064.s\n",
      "-rw-rw-rw- bigdata/bigdata   3 2017-12-26 21:56 074.s\n",
      "-rw-rw-rw- bigdata/bigdata   3 2017-12-26 21:56 077.s\n",
      "-rw-rw-rw- bigdata/bigdata   3 2017-12-26 21:56 085.s\n",
      "-rw-rw-rw- bigdata/bigdata   3 2017-12-26 21:56 087.s\n",
      "-rw-rw-rw- bigdata/bigdata   3 2017-12-26 21:56 091.s\n",
      "-rw-rw-rw- bigdata/bigdata   3 2017-12-26 21:56 096.s\n",
      "-rw-rw-rw- bigdata/bigdata   3 2017-12-26 21:56 097.s\n",
      "\n"
     ]
    }
   ],
   "source": [
    "contents = os.popen(\"tar -ztvf _test-0001.tgz\").read()\n",
    "print contents\n",
    "assert \"030.s\" in contents"
   ]
  },
  {
   "cell_type": "code",
   "execution_count": 19,
   "metadata": {},
   "outputs": [
    {
     "data": {
      "text/plain": [
       "[{'__key__': '001', 's': '001'},\n",
       " {'__key__': '004', 's': '004'},\n",
       " {'__key__': '005', 's': '005'},\n",
       " {'__key__': '010', 's': '010'},\n",
       " {'__key__': '011', 's': '011'}]"
      ]
     },
     "execution_count": 19,
     "metadata": {},
     "output_type": "execute_result"
    }
   ],
   "source": [
    "result = list(htpar.tarshards(\"_test-@0004.tgz\"))\n",
    "result[:5]"
   ]
  },
  {
   "cell_type": "code",
   "execution_count": 20,
   "metadata": {
    "collapsed": true
   },
   "outputs": [],
   "source": [
    "assert len(result) == 100"
   ]
  },
  {
   "cell_type": "code",
   "execution_count": 21,
   "metadata": {
    "collapsed": true
   },
   "outputs": [],
   "source": [
    "assert set(x[\"s\"] for x in result) == \\\n",
    "       set(\"%03d\" % i for i in range(100))"
   ]
  },
  {
   "cell_type": "code",
   "execution_count": null,
   "metadata": {
    "collapsed": true
   },
   "outputs": [],
   "source": []
  }
 ],
 "metadata": {
  "kernelspec": {
   "display_name": "Python 2",
   "language": "python",
   "name": "python2"
  },
  "language_info": {
   "codemirror_mode": {
    "name": "ipython",
    "version": 2
   },
   "file_extension": ".py",
   "mimetype": "text/x-python",
   "name": "python",
   "nbconvert_exporter": "python",
   "pygments_lexer": "ipython2",
   "version": "2.7.12"
  }
 },
 "nbformat": 4,
 "nbformat_minor": 2
}
