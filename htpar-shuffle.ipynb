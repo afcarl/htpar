{
 "cells": [
  {
   "cell_type": "code",
   "execution_count": 1,
   "metadata": {},
   "outputs": [
    {
     "data": {
      "text/html": [
       "<table style=\"border: 2px solid white;\">\n",
       "<tr>\n",
       "<td style=\"vertical-align: top; border: 0px solid white\">\n",
       "<h3>Client</h3>\n",
       "<ul>\n",
       "  <li><b>Scheduler: </b>tcp://127.0.0.1:37989\n",
       "</ul>\n",
       "</td>\n",
       "<td style=\"vertical-align: top; border: 0px solid white\">\n",
       "<h3>Cluster</h3>\n",
       "<ul>\n",
       "  <li><b>Workers: </b>4</li>\n",
       "  <li><b>Cores: </b>4</li>\n",
       "  <li><b>Memory: </b>33.68 GB</li>\n",
       "</ul>\n",
       "</td>\n",
       "</tr>\n",
       "</table>"
      ],
      "text/plain": [
       "<Client: scheduler='tcp://127.0.0.1:37989' processes=4 cores=4>"
      ]
     },
     "execution_count": 1,
     "metadata": {},
     "output_type": "execute_result"
    },
    {
     "name": "stdout",
     "output_type": "stream",
     "text": [
      ">>> starting <distributed.queues.Queue object at 0x7fce044ce450>\n",
      ">>> starting <distributed.queues.Queue object at 0x7fce045b2590>\n",
      ">>> starting <distributed.queues.Queue object at 0x7fce2ef85610>\n",
      ">>> {'a': '2', 'b': '2', '__key__': '000002'}\n",
      ">>> {'a': '0', 'b': '0', '__key__': '000000'}\n",
      ">>> {'a': '5', 'b': '5', '__key__': '000005'}\n",
      ">>> {'a': '1', 'b': '1', '__key__': '000001'}\n",
      ">>> {'a': '3', 'b': '3', '__key__': '000003'}\n",
      ">>> {'a': '6', 'b': '6', '__key__': '000006'}\n",
      ">>> {'a': '8', 'b': '8', '__key__': '000008'}\n",
      ">>> {'a': '11', 'b': '11', '__key__': '000011'}\n",
      ">>> {'a': '4', 'b': '4', '__key__': '000004'}\n",
      ">>> {'a': '7', 'b': '7', '__key__': '000007'}\n",
      ">>> {'a': '14', 'b': '14', '__key__': '000014'}\n",
      ">>> {'a': '17', 'b': '17', '__key__': '000017'}\n",
      ">>> {'a': '9', 'b': '9', '__key__': '000009'}\n",
      ">>> {'a': '20', 'b': '20', '__key__': '000020'}\n",
      ">>> {'a': '10', 'b': '10', '__key__': '000010'}\n",
      ">>> {'a': '12', 'b': '12', '__key__': '000012'}\n",
      ">>> {'a': '23', 'b': '23', '__key__': '000023'}\n",
      ">>> {'a': '15', 'b': '15', '__key__': '000015'}\n",
      ">>> {'a': '13', 'b': '13', '__key__': '000013'}\n",
      ">>> {'a': '16', 'b': '16', '__key__': '000016'}\n",
      ">>> {'a': '18', 'b': '18', '__key__': '000018'}\n",
      ">>> {'a': '21', 'b': '21', '__key__': '000021'}\n",
      ">>> {'a': '19', 'b': '19', '__key__': '000019'}\n",
      ">>> {'a': '26', 'b': '26', '__key__': '000026'}\n",
      ">>> {'a': '24', 'b': '24', '__key__': '000024'}\n",
      ">>> {'a': '22', 'b': '22', '__key__': '000022'}\n",
      ">>> {'a': '27', 'b': '27', '__key__': '000027'}\n",
      ">>> {'a': '25', 'b': '25', '__key__': '000025'}\n",
      ">>> {'a': '29', 'b': '29', '__key__': '000029'}\n",
      ">>> {'a': '28', 'b': '28', '__key__': '000028'}\n",
      ">>> {'a': '32', 'b': '32', '__key__': '000032'}\n",
      ">>> {'a': '31', 'b': '31', '__key__': '000031'}\n",
      ">>> {'a': '30', 'b': '30', '__key__': '000030'}\n",
      ">>> {'a': '34', 'b': '34', '__key__': '000034'}\n",
      ">>> {'a': '33', 'b': '33', '__key__': '000033'}\n",
      ">>> {'a': '35', 'b': '35', '__key__': '000035'}\n",
      ">>> {'a': '36', 'b': '36', '__key__': '000036'}\n",
      ">>> {'a': '37', 'b': '37', '__key__': '000037'}\n",
      ">>> {'a': '38', 'b': '38', '__key__': '000038'}\n",
      ">>> {'a': '39', 'b': '39', '__key__': '000039'}\n",
      ">>> {'a': '40', 'b': '40', '__key__': '000040'}\n",
      ">>> {'a': '41', 'b': '41', '__key__': '000041'}\n",
      ">>> {'a': '42', 'b': '42', '__key__': '000042'}\n",
      ">>> {'a': '43', 'b': '43', '__key__': '000043'}\n",
      ">>> {'a': '44', 'b': '44', '__key__': '000044'}\n",
      ">>> {'a': '45', 'b': '45', '__key__': '000045'}\n",
      ">>> {'a': '46', 'b': '46', '__key__': '000046'}\n",
      ">>> {'a': '48', 'b': '48', '__key__': '000048'}\n",
      ">>> {'a': '47', 'b': '47', '__key__': '000047'}\n",
      ">>> {'a': '49', 'b': '49', '__key__': '000049'}\n",
      ">>> {'a': '50', 'b': '50', '__key__': '000050'}\n",
      ">>> {'a': '52', 'b': '52', '__key__': '000052'}\n",
      ">>> {'a': '51', 'b': '51', '__key__': '000051'}\n",
      ">>> {'a': '53', 'b': '53', '__key__': '000053'}\n",
      ">>> {'a': '54', 'b': '54', '__key__': '000054'}\n",
      ">>> {'a': '56', 'b': '56', '__key__': '000056'}\n",
      ">>> {'a': '55', 'b': '55', '__key__': '000055'}\n",
      ">>> {'a': '57', 'b': '57', '__key__': '000057'}\n",
      ">>> {'a': '58', 'b': '58', '__key__': '000058'}\n",
      ">>> {'a': '60', 'b': '60', '__key__': '000060'}\n",
      ">>> {'a': '61', 'b': '61', '__key__': '000061'}\n",
      ">>> {'a': '59', 'b': '59', '__key__': '000059'}\n",
      ">>> {'a': '62', 'b': '62', '__key__': '000062'}\n",
      ">>> {'a': '63', 'b': '63', '__key__': '000063'}\n",
      ">>> {'a': '64', 'b': '64', '__key__': '000064'}\n",
      ">>> {'a': '65', 'b': '65', '__key__': '000065'}\n",
      ">>> {'a': '67', 'b': '67', '__key__': '000067'}\n",
      ">>> {'a': '66', 'b': '66', '__key__': '000066'}\n",
      ">>> {'a': '69', 'b': '69', '__key__': '000069'}\n",
      ">>> {'a': '70', 'b': '70', '__key__': '000070'}\n",
      ">>> {'a': '68', 'b': '68', '__key__': '000068'}\n",
      ">>> {'a': '72', 'b': '72', '__key__': '000072'}\n",
      ">>> {'a': '71', 'b': '71', '__key__': '000071'}\n",
      ">>> {'a': '73', 'b': '73', '__key__': '000073'}\n",
      ">>> {'a': '74', 'b': '74', '__key__': '000074'}\n",
      ">>> {'a': '76', 'b': '76', '__key__': '000076'}\n",
      ">>> {'a': '75', 'b': '75', '__key__': '000075'}\n",
      ">>> {'a': '77', 'b': '77', '__key__': '000077'}\n",
      ">>> {'a': '79', 'b': '79', '__key__': '000079'}\n",
      ">>> {'a': '80', 'b': '80', '__key__': '000080'}\n",
      ">>> {'a': '78', 'b': '78', '__key__': '000078'}\n",
      ">>> {'a': '81', 'b': '81', '__key__': '000081'}\n",
      ">>> {'a': '82', 'b': '82', '__key__': '000082'}\n",
      ">>> {'a': '84', 'b': '84', '__key__': '000084'}\n",
      ">>> {'a': '83', 'b': '83', '__key__': '000083'}\n",
      ">>> {'a': '85', 'b': '85', '__key__': '000085'}\n",
      ">>> {'a': '86', 'b': '86', '__key__': '000086'}\n",
      ">>> {'a': '87', 'b': '87', '__key__': '000087'}\n",
      ">>> {'a': '88', 'b': '88', '__key__': '000088'}\n",
      ">>> {'a': '89', 'b': '89', '__key__': '000089'}\n",
      ">>> {'a': '91', 'b': '91', '__key__': '000091'}\n",
      ">>> {'a': '92', 'b': '92', '__key__': '000092'}\n",
      ">>> {'a': '90', 'b': '90', '__key__': '000090'}\n",
      ">>> {'a': '93', 'b': '93', '__key__': '000093'}\n",
      ">>> {'a': '94', 'b': '94', '__key__': '000094'}\n",
      ">>> {'a': '96', 'b': '96', '__key__': '000096'}\n",
      ">>> {'a': '95', 'b': '95', '__key__': '000095'}\n",
      ">>> {'a': '98', 'b': '98', '__key__': '000098'}\n",
      ">>> {'a': '99', 'b': '99', '__key__': '000099'}\n",
      ">>> {'a': '97', 'b': '97', '__key__': '000097'}\n"
     ]
    }
   ],
   "source": [
    "from time import sleep\n",
    "from random import random\n",
    "import os, sys\n",
    "from socket import gethostname\n",
    "from dask.distributed import Queue\n",
    "import htpar\n",
    "reload(htpar)\n",
    "from random import randint\n",
    "from distributed import Client, fire_and_forget\n",
    "# client = Client(\"192.168.4.3:8786\")\n",
    "client = Client()\n",
    "client"
   ]
  },
  {
   "cell_type": "code",
   "execution_count": 2,
   "metadata": {
    "collapsed": true
   },
   "outputs": [],
   "source": [
    "def read_fun(queues, src):\n",
    "    count = 0\n",
    "    for record in htpar.tarrecords(src):\n",
    "        shard = count % len(queues)\n",
    "        queues[shard].put(record)\n",
    "        count += 1"
   ]
  },
  {
   "cell_type": "code",
   "execution_count": 3,
   "metadata": {
    "collapsed": true
   },
   "outputs": [],
   "source": [
    "def write_fun(dest, queue):\n",
    "    print \">>> starting\", queue\n",
    "    with htpar.TarRecords(dest) as stream:\n",
    "        while True:\n",
    "            record = queue.get()\n",
    "            if record is None: break\n",
    "            print \">>>\", record\n",
    "            stream.write(record[\"__key__\"], record)\n",
    "    return \"OK\""
   ]
  },
  {
   "cell_type": "code",
   "execution_count": 4,
   "metadata": {},
   "outputs": [
    {
     "name": "stdout",
     "output_type": "stream",
     "text": [
      "curl: (7) Failed to connect to 192.168.4.3 port 80: Connection refused\r\n"
     ]
    }
   ],
   "source": [
    "!echo test | curl -T - http://192.168.4.3/data/temp/_test.txt"
   ]
  },
  {
   "cell_type": "code",
   "execution_count": 5,
   "metadata": {},
   "outputs": [],
   "source": [
    "hs = htpar.HttpStorage()\n",
    "with hs.open_write(\"http://192.168.4.6/data/temp/_test.txt\") as stream:\n",
    "    pass"
   ]
  },
  {
   "cell_type": "code",
   "execution_count": 6,
   "metadata": {},
   "outputs": [
    {
     "name": "stdout",
     "output_type": "stream",
     "text": [
      "http://192.168.4.3/data/temp/_test.txt: cannot write location\n"
     ]
    }
   ],
   "source": [
    "hs = htpar.HttpStorage()\n",
    "try:\n",
    "    with hs.open_write(\"http://192.168.4.3/data/temp/_test.txt\") as stream:\n",
    "        pass\n",
    "except Exception, e:\n",
    "    print e"
   ]
  },
  {
   "cell_type": "code",
   "execution_count": 7,
   "metadata": {},
   "outputs": [
    {
     "name": "stdout",
     "output_type": "stream",
     "text": [
      "0 http://192.168.4.6/data/temp/_test-00000.tgz <distributed.queues.Queue object at 0x7fce0406ed10> <Future: status: pending, key: write_fun-8a23641ebc6ab207fc971901c4759730>\n",
      "1 http://192.168.4.6/data/temp/_test-00001.tgz <distributed.queues.Queue object at 0x7fce2e65a410> <Future: status: pending, key: write_fun-5fc318511281b483b834a13b2a994778>\n",
      "2 http://192.168.4.6/data/temp/_test-00002.tgz <distributed.queues.Queue object at 0x7fce2e65a250> <Future: status: pending, key: write_fun-f07b2f3b5a7032a750b09c5b9a5d5448>\n"
     ]
    }
   ],
   "source": [
    "shards = list(htpar.path_shards(\"http://192.168.4.6/data/temp/_test-@00003.tgz\"))\n",
    "queues = [None] * len(shards)\n",
    "results = [None] * len(shards)\n",
    "for i, s in enumerate(shards):\n",
    "    queues[i] = Queue()\n",
    "    results[i] = client.submit(write_fun, s, queues[i])\n",
    "    print i, s, queues[i], results[i]"
   ]
  },
  {
   "cell_type": "code",
   "execution_count": 8,
   "metadata": {
    "collapsed": true
   },
   "outputs": [],
   "source": [
    "for i in range(100): \n",
    "    queues[i%3].put(dict(a=str(i), b=str(i), __key__=\"%06d\"%i))\n",
    "for i in range(3): \n",
    "    queues[i].put(None)"
   ]
  },
  {
   "cell_type": "code",
   "execution_count": 9,
   "metadata": {},
   "outputs": [
    {
     "data": {
      "text/plain": [
       "['OK', 'OK', 'OK']"
      ]
     },
     "execution_count": 9,
     "metadata": {},
     "output_type": "execute_result"
    }
   ],
   "source": [
    "client.gather(results)"
   ]
  },
  {
   "cell_type": "code",
   "execution_count": null,
   "metadata": {
    "collapsed": true
   },
   "outputs": [],
   "source": []
  }
 ],
 "metadata": {
  "kernelspec": {
   "display_name": "Python 2",
   "language": "python",
   "name": "python2"
  },
  "language_info": {
   "codemirror_mode": {
    "name": "ipython",
    "version": 2
   },
   "file_extension": ".py",
   "mimetype": "text/x-python",
   "name": "python",
   "nbconvert_exporter": "python",
   "pygments_lexer": "ipython2",
   "version": "2.7.12"
  }
 },
 "nbformat": 4,
 "nbformat_minor": 2
}
