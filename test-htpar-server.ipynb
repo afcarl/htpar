{
 "cells": [
  {
   "cell_type": "code",
   "execution_count": 1,
   "metadata": {},
   "outputs": [
    {
     "name": "stdout",
     "output_type": "stream",
     "text": [
      "Populating the interactive namespace from numpy and matplotlib\n"
     ]
    }
   ],
   "source": [
    "%pylab inline"
   ]
  },
  {
   "cell_type": "code",
   "execution_count": 2,
   "metadata": {
    "collapsed": true
   },
   "outputs": [],
   "source": [
    "import os\n",
    "import sys\n",
    "import os.path\n",
    "import urllib2"
   ]
  },
  {
   "cell_type": "code",
   "execution_count": 3,
   "metadata": {},
   "outputs": [
    {
     "data": {
      "text/plain": [
       "<module 'htpar' from 'htpar/__init__.pyc'>"
      ]
     },
     "execution_count": 3,
     "metadata": {},
     "output_type": "execute_result"
    }
   ],
   "source": [
    "import htpar\n",
    "reload(htpar)"
   ]
  },
  {
   "cell_type": "markdown",
   "metadata": {},
   "source": [
    "# NGINX Server"
   ]
  },
  {
   "cell_type": "code",
   "execution_count": 4,
   "metadata": {},
   "outputs": [
    {
     "name": "stdout",
     "output_type": "stream",
     "text": [
      "chmod: changing permissions of 'NGINX/test-data': Operation not permitted\n",
      "/work/htpar/NGINX\n",
      "\u001b[33mWARNING\u001b[0m: Found orphan containers (nginx_web_1) for this project. If you removed or renamed this service in your compose file, you can run this command with the --remove-orphans flag to clean it up.\n",
      "Creating nginx_htpar-test_1 ... \n",
      "Creating nginx_htpar-test_1\n",
      "\u001b[1Bting nginx_htpar-test_1 ... \u001b[32mdone\u001b[0m\u001b[0m"
     ]
    }
   ],
   "source": [
    "!mkdir -p NGINX/test-data\n",
    "!chmod 777 NGINX/test-data\n",
    "!cd NGINX && docker-compose -f docker-test.yml up -d\n",
    "!sleep 3"
   ]
  },
  {
   "cell_type": "code",
   "execution_count": 5,
   "metadata": {},
   "outputs": [],
   "source": [
    "def read_url(url):\n",
    "    return urllib2.urlopen(url).read()\n",
    "\n",
    "def read_dir(url):\n",
    "    import simplejson\n",
    "    return simplejson.loads(read_url(url))\n",
    "    \n",
    "def write_url(url, data):\n",
    "    import urllib2\n",
    "    opener = urllib2.build_opener(urllib2.HTTPHandler)\n",
    "    request = urllib2.Request(url, data=data)\n",
    "    request.add_header('Content-Type', 'application/octet-stream')\n",
    "    request.get_method = lambda: 'PUT'\n",
    "    url = opener.open(request)\n",
    "    return url"
   ]
  },
  {
   "cell_type": "code",
   "execution_count": 6,
   "metadata": {},
   "outputs": [
    {
     "data": {
      "text/plain": [
       "[{'mtime': 'Thu, 28 Dec 2017 17:34:56 GMT',\n",
       "  'name': '_test',\n",
       "  'type': 'directory'},\n",
       " {'mtime': 'Thu, 28 Dec 2017 16:18:57 GMT',\n",
       "  'name': 'cache',\n",
       "  'type': 'directory'},\n",
       " {'mtime': 'Thu, 28 Dec 2017 16:41:11 GMT',\n",
       "  'name': 'temp',\n",
       "  'type': 'directory'},\n",
       " {'mtime': 'Thu, 28 Dec 2017 16:31:57 GMT',\n",
       "  'name': 'test',\n",
       "  'size': 9,\n",
       "  'type': 'file'}]"
      ]
     },
     "execution_count": 6,
     "metadata": {},
     "output_type": "execute_result"
    }
   ],
   "source": [
    "read_dir(\"http://localhost:28880\")"
   ]
  },
  {
   "cell_type": "code",
   "execution_count": 7,
   "metadata": {},
   "outputs": [
    {
     "name": "stdout",
     "output_type": "stream",
     "text": [
      "0.407908\n"
     ]
    }
   ],
   "source": [
    "test_data = \"%g\" % rand()\n",
    "write_url(\"http://localhost:28880/_test/test\", test_data)\n",
    "result = read_url(\"http://localhost:28880/_test/test\")\n",
    "assert result == test_data\n",
    "print result"
   ]
  },
  {
   "cell_type": "markdown",
   "metadata": {},
   "source": [
    "# tarfiles.py"
   ]
  },
  {
   "cell_type": "code",
   "execution_count": 8,
   "metadata": {},
   "outputs": [
    {
     "name": "stdout",
     "output_type": "stream",
     "text": [
      "# curl -s -T - 'http://localhost:28880/_test/_test.tgz'\n"
     ]
    }
   ],
   "source": [
    "with htpar.TarRecords(\"http://localhost:28880/_test/_test.tgz\") as stream:\n",
    "    for i in range(3):\n",
    "        s = \"%03d\" % i\n",
    "        stream.write(s, dict(s=s))"
   ]
  },
  {
   "cell_type": "code",
   "execution_count": 9,
   "metadata": {},
   "outputs": [
    {
     "name": "stdout",
     "output_type": "stream",
     "text": [
      "-rw-rw-rw- bigdata/bigdata   3 2017-12-28 09:34 000.s\n",
      "-rw-rw-rw- bigdata/bigdata   3 2017-12-28 09:34 001.s\n",
      "-rw-rw-rw- bigdata/bigdata   3 2017-12-28 09:34 002.s\n",
      "\n"
     ]
    }
   ],
   "source": [
    "contents = os.popen(\"curl http://localhost:28880/_test/_test.tgz | tar -ztvf -\").read()\n",
    "print contents\n",
    "assert \"002.s\" in contents"
   ]
  },
  {
   "cell_type": "code",
   "execution_count": 10,
   "metadata": {},
   "outputs": [
    {
     "name": "stdout",
     "output_type": "stream",
     "text": [
      "# curl -s 'http://localhost:28880/_test/_test.tgz'\n"
     ]
    },
    {
     "data": {
      "text/plain": [
       "[{'__key__': '000', 's': '000'},\n",
       " {'__key__': '001', 's': '001'},\n",
       " {'__key__': '002', 's': '002'}]"
      ]
     },
     "execution_count": 10,
     "metadata": {},
     "output_type": "execute_result"
    }
   ],
   "source": [
    "result = list(htpar.tarrecords(\"http://localhost:28880/_test/_test.tgz\"))\n",
    "result"
   ]
  },
  {
   "cell_type": "code",
   "execution_count": 11,
   "metadata": {
    "collapsed": true
   },
   "outputs": [],
   "source": [
    "assert len(result) == 3\n",
    "assert result[0][\"s\"] == \"000\"\n",
    "assert result[2][\"__key__\"] == \"002\""
   ]
  },
  {
   "cell_type": "code",
   "execution_count": 12,
   "metadata": {},
   "outputs": [
    {
     "name": "stdout",
     "output_type": "stream",
     "text": [
      "# curl -s 'http://localhost:28880/_test/_test.tgz'\n"
     ]
    }
   ],
   "source": [
    "result1 = list(htpar.tarshards(\"http://localhost:28880/_test/_test.tgz\"))\n",
    "assert result == result1"
   ]
  },
  {
   "cell_type": "code",
   "execution_count": 13,
   "metadata": {},
   "outputs": [
    {
     "name": "stdout",
     "output_type": "stream",
     "text": [
      "# curl -s -T - 'http://localhost:28880/_test/_test-0000.tgz'\n",
      "# curl -s -T - 'http://localhost:28880/_test/_test-0001.tgz'\n",
      "# curl -s -T - 'http://localhost:28880/_test/_test-0002.tgz'\n",
      "# curl -s -T - 'http://localhost:28880/_test/_test-0003.tgz'\n",
      "[opened 4 output streams]\n"
     ]
    }
   ],
   "source": [
    "with htpar.TarShards(\"http://localhost:28880/_test/_test-@0004.tgz\") as stream:\n",
    "    for i in range(100):\n",
    "        s = \"%03d\" % i\n",
    "        stream.write(s, dict(s=s))"
   ]
  },
  {
   "cell_type": "code",
   "execution_count": 14,
   "metadata": {},
   "outputs": [
    {
     "name": "stdout",
     "output_type": "stream",
     "text": [
      "-rw-rw-rw- bigdata/bigdata   3 2017-12-28 09:35 007.s\n",
      "-rw-rw-rw- bigdata/bigdata   3 2017-12-28 09:35 009.s\n",
      "-rw-rw-rw- bigdata/bigdata   3 2017-12-28 09:35 013.s\n",
      "-rw-rw-rw- bigdata/bigdata   3 2017-12-28 09:35 014.s\n",
      "-rw-rw-rw- bigdata/bigdata   3 2017-12-28 09:35 017.s\n",
      "-rw-rw-rw- bigdata/bigdata   3 2017-12-28 09:35 018.s\n",
      "-rw-rw-rw- bigdata/bigdata   3 2017-12-28 09:35 026.s\n",
      "-rw-rw-rw- bigdata/bigdata   3 2017-12-28 09:35 028.s\n",
      "-rw-rw-rw- bigdata/bigdata   3 2017-12-28 09:35 030.s\n",
      "-rw-rw-rw- bigdata/bigdata   3 2017-12-28 09:35 036.s\n",
      "-rw-rw-rw- bigdata/bigdata   3 2017-12-28 09:35 038.s\n",
      "-rw-rw-rw- bigdata/bigdata   3 2017-12-28 09:35 039.s\n",
      "-rw-rw-rw- bigdata/bigdata   3 2017-12-28 09:35 040.s\n",
      "-rw-rw-rw- bigdata/bigdata   3 2017-12-28 09:35 042.s\n",
      "-rw-rw-rw- bigdata/bigdata   3 2017-12-28 09:35 044.s\n",
      "-rw-rw-rw- bigdata/bigdata   3 2017-12-28 09:35 047.s\n",
      "-rw-rw-rw- bigdata/bigdata   3 2017-12-28 09:35 052.s\n",
      "-rw-rw-rw- bigdata/bigdata   3 2017-12-28 09:35 058.s\n",
      "-rw-rw-rw- bigdata/bigdata   3 2017-12-28 09:35 059.s\n",
      "-rw-rw-rw- bigdata/bigdata   3 2017-12-28 09:35 062.s\n",
      "-rw-rw-rw- bigdata/bigdata   3 2017-12-28 09:35 063.s\n",
      "-rw-rw-rw- bigdata/bigdata   3 2017-12-28 09:35 064.s\n",
      "-rw-rw-rw- bigdata/bigdata   3 2017-12-28 09:35 074.s\n",
      "-rw-rw-rw- bigdata/bigdata   3 2017-12-28 09:35 077.s\n",
      "-rw-rw-rw- bigdata/bigdata   3 2017-12-28 09:35 085.s\n",
      "-rw-rw-rw- bigdata/bigdata   3 2017-12-28 09:35 087.s\n",
      "-rw-rw-rw- bigdata/bigdata   3 2017-12-28 09:35 091.s\n",
      "-rw-rw-rw- bigdata/bigdata   3 2017-12-28 09:35 096.s\n",
      "-rw-rw-rw- bigdata/bigdata   3 2017-12-28 09:35 097.s\n",
      "\n"
     ]
    }
   ],
   "source": [
    "contents = os.popen(\"curl http://localhost:28880/_test/_test-0001.tgz | tar -ztvf -\").read()\n",
    "print contents\n",
    "assert \"030.s\" in contents"
   ]
  },
  {
   "cell_type": "code",
   "execution_count": 15,
   "metadata": {},
   "outputs": [
    {
     "name": "stdout",
     "output_type": "stream",
     "text": [
      "# curl -s 'http://localhost:28880/_test/_test-0000.tgz'\n",
      "# curl -s 'http://localhost:28880/_test/_test-0001.tgz'\n",
      "# curl -s 'http://localhost:28880/_test/_test-0002.tgz'\n",
      "# curl -s 'http://localhost:28880/_test/_test-0003.tgz'\n"
     ]
    },
    {
     "data": {
      "text/plain": [
       "[{'__key__': '001', 's': '001'},\n",
       " {'__key__': '004', 's': '004'},\n",
       " {'__key__': '005', 's': '005'},\n",
       " {'__key__': '010', 's': '010'},\n",
       " {'__key__': '011', 's': '011'}]"
      ]
     },
     "execution_count": 15,
     "metadata": {},
     "output_type": "execute_result"
    }
   ],
   "source": [
    "result = list(htpar.tarshards(\"http://localhost:28880/_test/_test-@0004.tgz\"))\n",
    "result[:5]"
   ]
  },
  {
   "cell_type": "code",
   "execution_count": 16,
   "metadata": {
    "collapsed": true
   },
   "outputs": [],
   "source": [
    "assert len(result) == 100"
   ]
  },
  {
   "cell_type": "code",
   "execution_count": 17,
   "metadata": {
    "collapsed": true
   },
   "outputs": [],
   "source": [
    "assert set(x[\"s\"] for x in result) == \\\n",
    "       set(\"%03d\" % i for i in range(100))"
   ]
  },
  {
   "cell_type": "markdown",
   "metadata": {},
   "source": [
    "# Shut Down Server"
   ]
  },
  {
   "cell_type": "code",
   "execution_count": 18,
   "metadata": {},
   "outputs": [
    {
     "name": "stdout",
     "output_type": "stream",
     "text": [
      "/work/htpar/NGINX\n",
      "Stopping nginx_htpar-test_1 ... \n",
      "\u001b[1B\u001b[33mWARNING\u001b[0m: Found orphan containers (nginx_web_1) for this project. If you removed or renamed this service in your compose file, you can run this command with the --remove-orphans flag to clean it up.\n",
      "Removing nginx_htpar-test_1 ... \n",
      "\u001b[1BRemoving network nginx_default32mdone\u001b[0m\n",
      "\u001b[31mERROR\u001b[0m: network nginx_default id 1c8ba7a55ca48d24f80f917a4354e1a817a2b947f28aa476b62de10b68608c56 has active endpoints\n",
      "\u001b[0m"
     ]
    }
   ],
   "source": [
    "!cd NGINX && docker-compose -f docker-test.yml down || true"
   ]
  },
  {
   "cell_type": "code",
   "execution_count": null,
   "metadata": {
    "collapsed": true
   },
   "outputs": [],
   "source": []
  }
 ],
 "metadata": {
  "kernelspec": {
   "display_name": "Python 2",
   "language": "python",
   "name": "python2"
  },
  "language_info": {
   "codemirror_mode": {
    "name": "ipython",
    "version": 2
   },
   "file_extension": ".py",
   "mimetype": "text/x-python",
   "name": "python",
   "nbconvert_exporter": "python",
   "pygments_lexer": "ipython2",
   "version": "2.7.12"
  }
 },
 "nbformat": 4,
 "nbformat_minor": 2
}
